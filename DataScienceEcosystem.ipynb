{
 "cells": [
  {
   "cell_type": "markdown",
   "id": "f75e53c2-d601-4f0e-8f92-8c89310884dd",
   "metadata": {},
   "source": [
    "#Data Science Tools and Ecosystem"
   ]
  },
  {
   "cell_type": "markdown",
   "id": "281c9202-97eb-4dd5-ad47-31d31aa83127",
   "metadata": {
    "tags": []
   },
   "source": [
    "#In this notebook, Data Science Tools and Ecosystem are summarized."
   ]
  },
  {
   "cell_type": "markdown",
   "id": "2b82f1de-4567-4657-877d-4c2642262ff8",
   "metadata": {},
   "source": [
    "#Some of the popular languages that Data Scientists use are:\n",
    "\n",
    "1. Python\n",
    "2. R\n",
    "3. Julia"
   ]
  },
  {
   "cell_type": "markdown",
   "id": "78909096-ba95-4841-bf85-cd121bfb23ae",
   "metadata": {},
   "source": [
    "#Create a markdown cell to list data science libraries\n",
    "\n",
    "1. Panada\n",
    "2. Numpy\n",
    "3. Matplotlib\n",
    "4. Scikit-learn"
   ]
  },
  {
   "cell_type": "markdown",
   "id": "49664914-198a-46ca-80b1-421981f8d9e7",
   "metadata": {},
   "source": [
    "#Create a markdown cell with a table of Data Science tools\n",
    "\n",
    "|Data Science Tools|\n",
    "--------------------\n",
    "|Apache Spark|\n",
    "|IBM SPSS|\n",
    "|Jupyter Notebook|\n"
   ]
  },
  {
   "cell_type": "markdown",
   "id": "64e4e055-fd95-46f8-99c6-b705a3ff430f",
   "metadata": {},
   "source": [
    "###Create a markdown cell introducing arithmetic expression examples\n",
    "\n",
    "1. a+x\n",
    "2. a-x\n",
    "3. a/x\n",
    "\n"
   ]
  },
  {
   "cell_type": "code",
   "execution_count": 3,
   "id": "b083afa1-3d70-49af-a7c5-22f273618038",
   "metadata": {
    "tags": []
   },
   "outputs": [
    {
     "name": "stdout",
     "output_type": "stream",
     "text": [
      "17\n"
     ]
    }
   ],
   "source": [
    "#Create a code cell to multiply and add numbers\n",
    "X= (3*4)+5\n",
    "print(X)\n"
   ]
  },
  {
   "cell_type": "code",
   "execution_count": 6,
   "id": "a7374ef7-3ef5-48e2-81b3-dc7f56a7d2f3",
   "metadata": {
    "tags": []
   },
   "outputs": [
    {
     "name": "stdout",
     "output_type": "stream",
     "text": [
      "3.3333333333333335\n"
     ]
    }
   ],
   "source": [
    "#Create a code cell to convert minutes to hours\n",
    "X= 200/60\n",
    "print(X)"
   ]
  },
  {
   "cell_type": "markdown",
   "id": "99b85dfa-157a-4c4e-bbd8-b384e489021d",
   "metadata": {},
   "source": [
    "#Create a markdown cell for an introduction\n",
    "#Insert a markdown cell to list Objectives\n",
    "#**Objectives:**\n",
    ". List popular languages for Data Science\n",
    ". List popular Tools for Data Science\n",
    ". List popular Library for Data Science\n",
    "\n"
   ]
  },
  {
   "cell_type": "markdown",
   "id": "18b98e67-b638-4f17-839d-4a92d4018156",
   "metadata": {},
   "source": [
    "#Create a markdown cell to indicate the Author's name\n",
    "\n",
    "##Author\n",
    "Sweta subhalaxmi Beura"
   ]
  }
 ],
 "metadata": {
  "kernelspec": {
   "display_name": "Python",
   "language": "python",
   "name": "conda-env-python-py"
  },
  "language_info": {
   "codemirror_mode": {
    "name": "ipython",
    "version": 3
   },
   "file_extension": ".py",
   "mimetype": "text/x-python",
   "name": "python",
   "nbconvert_exporter": "python",
   "pygments_lexer": "ipython3",
   "version": "3.7.12"
  }
 },
 "nbformat": 4,
 "nbformat_minor": 5
}
